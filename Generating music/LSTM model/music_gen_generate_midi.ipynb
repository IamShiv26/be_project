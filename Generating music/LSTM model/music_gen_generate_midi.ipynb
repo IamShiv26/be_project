{
  "nbformat": 4,
  "nbformat_minor": 0,
  "metadata": {
    "colab": {
      "name": "music_gen_generate_midi.ipynb",
      "provenance": []
    },
    "kernelspec": {
      "name": "python3",
      "display_name": "Python 3"
    },
    "accelerator": "GPU"
  },
  "cells": [
    {
      "cell_type": "code",
      "metadata": {
        "id": "Tzdg5VCWw08d",
        "colab_type": "code",
        "colab": {
          "base_uri": "https://localhost:8080/",
          "height": 102
        },
        "outputId": "7cf45470-d211-458e-f0e7-b6406b25de97"
      },
      "source": [
        "!ln -sf /opt/bin/nvidia-smi /usr/bin/nvidia-smi\n",
        "!pip install gputil\n",
        "!pip install psutil\n",
        "!pip install humanize\n",
        "import psutil\n",
        "import humanize\n",
        "import os\n",
        "import GPUtil as GPU\n",
        "GPUs = GPU.getGPUs()\n",
        "# XXX: only one GPU on Colab and isn’t guaranteed\n",
        "gpu = GPUs[0]\n",
        "def printm():\n",
        " process = psutil.Process(os.getpid())\n",
        " print(\"Gen RAM Free: \" + humanize.naturalsize( psutil.virtual_memory().available ), \" | Proc size: \" + humanize.naturalsize( process.memory_info().rss))\n",
        " print(\"GPU RAM Free: {0:.0f}MB | Used: {1:.0f}MB | Util {2:3.0f}% | Total {3:.0f}MB\".format(gpu.memoryFree, gpu.memoryUsed, gpu.memoryUtil*100, gpu.memoryTotal))\n",
        "printm()"
      ],
      "execution_count": null,
      "outputs": [
        {
          "output_type": "stream",
          "text": [
            "Requirement already satisfied: gputil in /usr/local/lib/python3.6/dist-packages (1.4.0)\n",
            "Requirement already satisfied: psutil in /usr/local/lib/python3.6/dist-packages (5.4.8)\n",
            "Requirement already satisfied: humanize in /usr/local/lib/python3.6/dist-packages (0.5.1)\n",
            "Gen RAM Free: 12.7 GB  | Proc size: 158.8 MB\n",
            "GPU RAM Free: 16280MB | Used: 0MB | Util   0% | Total 16280MB\n"
          ],
          "name": "stdout"
        }
      ]
    },
    {
      "cell_type": "code",
      "metadata": {
        "id": "hPKbV7H-xJeV",
        "colab_type": "code",
        "colab": {
          "base_uri": "https://localhost:8080/",
          "height": 51
        },
        "outputId": "2ba4808c-7924-4509-a677-2389ed5c3fe3"
      },
      "source": [
        "from google.colab import drive\n",
        "drive.mount('/gdrive')\n",
        "%cd /gdrive"
      ],
      "execution_count": null,
      "outputs": [
        {
          "output_type": "stream",
          "text": [
            "Drive already mounted at /gdrive; to attempt to forcibly remount, call drive.mount(\"/gdrive\", force_remount=True).\n",
            "/gdrive\n"
          ],
          "name": "stdout"
        }
      ]
    },
    {
      "cell_type": "code",
      "metadata": {
        "id": "AimBiFCyxL1Y",
        "colab_type": "code",
        "colab": {
          "base_uri": "https://localhost:8080/",
          "height": 34
        },
        "outputId": "8ccb6689-69a9-44bc-e5cd-fecbba407c33"
      },
      "source": [
        "import numpy as np\n",
        "from keras.layers import LSTM,Dropout,Dense,Activation\n",
        "from keras.models import Sequential,Model,load_model\n",
        "from keras.callbacks import ModelCheckpoint\n",
        "from keras.utils import to_categorical\n",
        "from music21 import converter, instrument, note, chord,stream\n",
        "import glob"
      ],
      "execution_count": null,
      "outputs": [
        {
          "output_type": "stream",
          "text": [
            "Using TensorFlow backend.\n"
          ],
          "name": "stderr"
        }
      ]
    },
    {
      "cell_type": "code",
      "metadata": {
        "id": "7qk2SNckxS-Z",
        "colab_type": "code",
        "colab": {}
      },
      "source": [
        "def import_data():\n",
        "  notes = list()\n",
        "  for file in glob.glob('/gdrive/My Drive/midi_songs/*.mid'):\n",
        "    midi = converter.parse(file)\n",
        "    notes_to_parse = None\n",
        "    parts = instrument.partitionByInstrument(midi)\n",
        "    if(parts):\n",
        "      notes_to_parse = parts.parts[0].recurse()\n",
        "    else:\n",
        "      notes_to_parse = midi.flat.notes\n",
        "    for element in notes_to_parse:\n",
        "      if(isinstance(element,note.Note)):\n",
        "        notes.append(str(element.pitch))\n",
        "      elif(isinstance(element,chord.Chord)):\n",
        "        notes.append('.'.join(str(n) for n in element.normalOrder))\n",
        "  return notes"
      ],
      "execution_count": null,
      "outputs": []
    },
    {
      "cell_type": "code",
      "metadata": {
        "id": "8ZW9BtQlyZX2",
        "colab_type": "code",
        "colab": {}
      },
      "source": [
        "notes = import_data()\n",
        "n_vocab = len(set(notes))"
      ],
      "execution_count": null,
      "outputs": []
    },
    {
      "cell_type": "code",
      "metadata": {
        "id": "aHVDbllkyQ1x",
        "colab_type": "code",
        "colab": {}
      },
      "source": [
        "def generate_input_for_network(notes,n_vocab):\n",
        "  sequence_length = 100\n",
        "  pitchnames = sorted(set(item for item in notes)) #Umquie vales in the training set\n",
        "  # create a dictionary to map pitches to integers\n",
        "  notes_to_int = dict((pitchnames[i], i) for i in range(len(pitchnames)))\n",
        "  network_in_X = list()\n",
        "  network_out_y = list()\n",
        "  for i in range(0,len(notes)-sequence_length):\n",
        "    sequence_in = notes[i:i+sequence_length]\n",
        "    sequence_out = notes[i+sequence_length]\n",
        "    network_in_X.append([notes_to_int[char] for char in sequence_in])\n",
        "    network_out_y.append(notes_to_int[sequence_out])\n",
        "  n_patterns = len(network_in_X)\n",
        "  network_in_X = np.reshape(network_in_X,(n_patterns,sequence_length,1))\n",
        "  network_in_X_norm = network_in_X / float(n_vocab)\n",
        "  network_out_y = to_categorical(network_out_y)\n",
        "  return network_in_X,network_in_X_norm,pitchnames"
      ],
      "execution_count": null,
      "outputs": []
    },
    {
      "cell_type": "code",
      "metadata": {
        "id": "GzAc--vQyw9m",
        "colab_type": "code",
        "colab": {}
      },
      "source": [
        "network_in_X,network_in_X_norm,pitchnames = generate_input_for_network(notes,n_vocab)\n"
      ],
      "execution_count": null,
      "outputs": []
    },
    {
      "cell_type": "code",
      "metadata": {
        "id": "WDyyUf8lyV1e",
        "colab_type": "code",
        "colab": {}
      },
      "source": [
        "def load_lstm_model(network_in_X,n_vocab):\n",
        "  model = Sequential()\n",
        "  model.add(LSTM(256,input_shape=(network_in_X.shape[1],network_in_X.shape[2]),return_sequences=True))\n",
        "  model.add(Dropout(0.3))\n",
        "  model.add(LSTM(512,return_sequences=True))\n",
        "  model.add(Dropout(0.3))\n",
        "  model.add(LSTM(256))\n",
        "  model.add(Dense(256))\n",
        "  model.add(Dropout(0.3))\n",
        "  model.add(Dense(n_vocab))\n",
        "  model.add(Activation('softmax'))\n",
        "  model.compile(loss='categorical_crossentropy',optimizer='rmsprop')\n",
        "  model.load_weights('/gdrive/My Drive/Intermediate_weights_music_gen_v4/weights-improvement-99-0.6228-bigger.hdf5')\n",
        "  return model"
      ],
      "execution_count": null,
      "outputs": []
    },
    {
      "cell_type": "code",
      "metadata": {
        "id": "uQuRwyvbzd-2",
        "colab_type": "code",
        "colab": {}
      },
      "source": [
        "model=load_lstm_model(network_in_X_norm,n_vocab)"
      ],
      "execution_count": null,
      "outputs": []
    },
    {
      "cell_type": "code",
      "metadata": {
        "id": "_VcWCOV0zlXG",
        "colab_type": "code",
        "colab": {}
      },
      "source": [
        "def generate_sequence(model,network_in_X,n_vocab,pitchnames):\n",
        "  start = np.random.randint(0, len(network_in_X)-1)\n",
        "  int_to_note = dict((i, pitchnames[i]) for i in range(len(pitchnames)))\n",
        "  pattern = list(network_in_X[start])\n",
        "  prediction_output = []\n",
        "  # generate 500 notes\n",
        "  for note_index in range(100):\n",
        "      prediction_input = np.reshape(pattern, (1, len(pattern), 1))\n",
        "      prediction_input = prediction_input / float(n_vocab)\n",
        "      prediction = model.predict(prediction_input, verbose=0)\n",
        "      index = np.argmax(prediction)\n",
        "      result = int_to_note[index]\n",
        "      prediction_output.append(result)\n",
        "      pattern.append(index)\n",
        "      pattern = pattern[1:len(pattern)]\n",
        "  return prediction_output"
      ],
      "execution_count": null,
      "outputs": []
    },
    {
      "cell_type": "code",
      "metadata": {
        "id": "0Q_Fhm5b1_0a",
        "colab_type": "code",
        "colab": {}
      },
      "source": [
        "prediction_output = generate_sequence(model,network_in_X,n_vocab,pitchnames)"
      ],
      "execution_count": null,
      "outputs": []
    },
    {
      "cell_type": "code",
      "metadata": {
        "id": "E4ATs1zc2PV_",
        "colab_type": "code",
        "colab": {}
      },
      "source": [
        "def generate_notes(prediction_output):\n",
        "  offset = 0\n",
        "  output_notes = []\n",
        "\n",
        "  # create note and chord objects based on the values generated by the model\n",
        "  for pattern in prediction_output:\n",
        "      # pattern is a chord\n",
        "  #     print(pattern)\n",
        "      if (('.' in pattern) or pattern.isdigit()):\n",
        "          notes_in_chord = pattern.split('.')\n",
        "          notes = []\n",
        "          for current_note in notes_in_chord:\n",
        "              new_note = note.Note(int(current_note))\n",
        "              new_note.storedInstrument = instrument.Piano()\n",
        "              notes.append(new_note)\n",
        "          new_chord = chord.Chord(notes)\n",
        "          new_chord.offset = offset\n",
        "          output_notes.append(new_chord)\n",
        "      # pattern is a note\n",
        "      else:\n",
        "          new_note = note.Note(pattern)\n",
        "          new_note.offset = offset\n",
        "          new_note.storedInstrument = instrument.Piano()\n",
        "          output_notes.append(new_note)\n",
        "      # increase offset each iteration so that notes do not stack\n",
        "      offset += 0.5\n",
        "  return output_notes"
      ],
      "execution_count": null,
      "outputs": []
    },
    {
      "cell_type": "code",
      "metadata": {
        "id": "I87Xbm0t24QJ",
        "colab_type": "code",
        "colab": {}
      },
      "source": [
        "output_notes = generate_notes(prediction_output)"
      ],
      "execution_count": null,
      "outputs": []
    },
    {
      "cell_type": "code",
      "metadata": {
        "id": "flrirEM43BkB",
        "colab_type": "code",
        "colab": {}
      },
      "source": [
        "def generate_midi_file(output_notes):\n",
        "  midi_stream = stream.Stream(output_notes)\n",
        "  midi_stream.write('midi', fp='/gdrive/My Drive/test_output_final3.mid')"
      ],
      "execution_count": null,
      "outputs": []
    },
    {
      "cell_type": "code",
      "metadata": {
        "id": "_raXLgy33NdZ",
        "colab_type": "code",
        "colab": {}
      },
      "source": [
        "generate_midi_file(output_notes)"
      ],
      "execution_count": null,
      "outputs": []
    },
    {
      "cell_type": "code",
      "metadata": {
        "id": "oecnfzvSxVRj",
        "colab_type": "code",
        "colab": {}
      },
      "source": [
        ""
      ],
      "execution_count": null,
      "outputs": []
    },
    {
      "cell_type": "code",
      "metadata": {
        "id": "Mm-RaaIU5_qe",
        "colab_type": "code",
        "colab": {}
      },
      "source": [
        ""
      ],
      "execution_count": null,
      "outputs": []
    }
  ]
}