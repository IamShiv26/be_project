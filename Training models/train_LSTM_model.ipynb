{
  "nbformat": 4,
  "nbformat_minor": 0,
  "metadata": {
    "colab": {
      "name": "music_gen_v2.ipynb",
      "provenance": []
    },
    "kernelspec": {
      "name": "python3",
      "display_name": "Python 3"
    },
    "accelerator": "GPU"
  },
  "cells": [
    {
      "cell_type": "code",
      "metadata": {
        "id": "pCOoTCDxEN1E",
        "colab_type": "code",
        "colab": {}
      },
      "source": [
        "!ln -sf /opt/bin/nvidia-smi /usr/bin/nvidia-smi\n",
        "!pip install gputil\n",
        "!pip install psutil\n",
        "!pip install humanize\n",
        "import psutil\n",
        "import humanize\n",
        "import os\n",
        "import GPUtil as GPU\n",
        "GPUs = GPU.getGPUs()\n",
        "# XXX: only one GPU on Colab and isn’t guaranteed\n",
        "gpu = GPUs[0]\n",
        "def printm():\n",
        " process = psutil.Process(os.getpid())\n",
        " print(\"Gen RAM Free: \" + humanize.naturalsize( psutil.virtual_memory().available ), \" | Proc size: \" + humanize.naturalsize( process.memory_info().rss))\n",
        " print(\"GPU RAM Free: {0:.0f}MB | Used: {1:.0f}MB | Util {2:3.0f}% | Total {3:.0f}MB\".format(gpu.memoryFree, gpu.memoryUsed, gpu.memoryUtil*100, gpu.memoryTotal))\n",
        "printm()"
      ],
      "execution_count": null,
      "outputs": []
    },
    {
      "cell_type": "code",
      "metadata": {
        "id": "xMxHicuPEOhB",
        "colab_type": "code",
        "colab": {}
      },
      "source": [
        "from google.colab import drive\n",
        "drive.mount('/gdrive')\n",
        "%cd /gdrive"
      ],
      "execution_count": null,
      "outputs": []
    },
    {
      "cell_type": "code",
      "metadata": {
        "id": "bVHNsrhvEWqp",
        "colab_type": "code",
        "colab": {}
      },
      "source": [
        "import numpy as np\n",
        "from keras.layers import LSTM,Dropout,Dense,Activation\n",
        "from keras.models import Sequential,Model,load_model\n",
        "from keras.callbacks import ModelCheckpoint\n",
        "from keras.utils import to_categorical\n",
        "from music21 import converter, instrument, note, chord,stream\n",
        "import glob"
      ],
      "execution_count": null,
      "outputs": []
    },
    {
      "cell_type": "code",
      "metadata": {
        "id": "MgNTcVrZEaj5",
        "colab_type": "code",
        "colab": {}
      },
      "source": [
        "def import_data():\n",
        "  notes = list()\n",
        "  for file in glob.glob('/gdrive/My Drive/midi_songs/*.mid'):\n",
        "    midi = converter.parse(file)\n",
        "    notes_to_parse = None\n",
        "    parts = instrument.partitionByInstrument(midi)\n",
        "    if(parts):\n",
        "      notes_to_parse = parts.parts[0].recurse()\n",
        "    else:\n",
        "      notes_to_parse = midi.flat.notes\n",
        "    for element in notes_to_parse:\n",
        "      if(isinstance(element,note.Note)):\n",
        "        notes.append(str(element.pitch))\n",
        "      elif(isinstance(element,chord.Chord)):\n",
        "        notes.append('.'.join(str(n) for n in element.normalOrder))\n",
        "  return notes\n",
        "      "
      ],
      "execution_count": null,
      "outputs": []
    },
    {
      "cell_type": "code",
      "metadata": {
        "id": "o42db_3yGWsV",
        "colab_type": "code",
        "colab": {}
      },
      "source": [
        "notes = import_data()\n",
        "print(notes)"
      ],
      "execution_count": null,
      "outputs": []
    },
    {
      "cell_type": "code",
      "metadata": {
        "id": "d5v2wzmSI998",
        "colab_type": "code",
        "colab": {}
      },
      "source": [
        "def generate_input_for_network(notes,n_vocab):\n",
        "  sequence_length = 100\n",
        "  pitchnames = sorted(set(item for item in notes)) #Umquie vales in the training set\n",
        "  # create a dictionary to map pitches to integers\n",
        "  notes_to_int = dict((pitchnames[i], i) for i in range(len(pitchnames)))\n",
        "  network_in_X = list()\n",
        "  network_out_y = list()\n",
        "  for i in range(0,len(notes)-sequence_length):\n",
        "    sequence_in = notes[i:i+sequence_length]\n",
        "    sequence_out = notes[i+sequence_length]\n",
        "    network_in_X.append([notes_to_int[char] for char in sequence_in])\n",
        "    network_out_y.append(notes_to_int[sequence_out])\n",
        "  n_patterns = len(network_in_X)\n",
        "  network_in_X = np.reshape(network_in_X,(n_patterns,sequence_length,1))\n",
        "  network_in_X = network_in_X / float(n_vocab)\n",
        "  network_out_y = to_categorical(network_out_y)\n",
        "  return network_in_X,network_out_y"
      ],
      "execution_count": null,
      "outputs": []
    },
    {
      "cell_type": "code",
      "metadata": {
        "id": "w41qVU6oQRNk",
        "colab_type": "code",
        "colab": {}
      },
      "source": [
        "notes = import_data()\n",
        "n_vocab = len(set(notes))\n",
        "network_in_X,network_out_y = generate_input_for_network(notes,n_vocab)"
      ],
      "execution_count": null,
      "outputs": []
    },
    {
      "cell_type": "code",
      "metadata": {
        "id": "aCDacHjwQnMi",
        "colab_type": "code",
        "colab": {}
      },
      "source": [
        "def create_network(network_in_X,n_vocab):\n",
        "  model = Sequential()\n",
        "  model.add(LSTM(256,input_shape=(network_in_X.shape[1],network_in_X.shape[2]),return_sequences=True))\n",
        "  model.add(Dropout(0.3))\n",
        "  model.add(LSTM(512,return_sequences=True))\n",
        "  model.add(Dropout(0.3))\n",
        "  model.add(LSTM(256))\n",
        "  model.add(Dense(256))\n",
        "  model.add(Dropout(0.3))\n",
        "  model.add(Dense(n_vocab))\n",
        "  model.add(Activation('softmax'))\n",
        "  model.compile(loss='categorical_crossentropy',optimizer='rmsprop')\n",
        "  return model"
      ],
      "execution_count": null,
      "outputs": []
    },
    {
      "cell_type": "code",
      "metadata": {
        "id": "xzt0tUsZTsGs",
        "colab_type": "code",
        "colab": {}
      },
      "source": [
        "model=create_network(network_in_X,n_vocab)"
      ],
      "execution_count": null,
      "outputs": []
    },
    {
      "cell_type": "code",
      "metadata": {
        "id": "dDQH9RpxTzAb",
        "colab_type": "code",
        "colab": {}
      },
      "source": [
        "def train_model(model,network_in_X,network_out_y):\n",
        "  filepath = \"/gdrive/My Drive/Intermediate_weights_music_gen_v3/weights-improvement-{epoch:02d}-{loss:.4f}-bigger.hdf5\"\n",
        "  checkpoint = ModelCheckpoint(filepath,monitor='loss',verbose=0,save_best_only=True,mode='min')\n",
        "  callbacks_list = [checkpoint]\n",
        "  model.fit(network_in_X,network_out_y,epochs=100,batch_size=64, callbacks=callbacks_list)"
      ],
      "execution_count": null,
      "outputs": []
    },
    {
      "cell_type": "code",
      "metadata": {
        "id": "oKWpI1j8VBmk",
        "colab_type": "code",
        "colab": {}
      },
      "source": [
        "train_model(model,network_in_X,network_out_y)"
      ],
      "execution_count": null,
      "outputs": []
    },
    {
      "cell_type": "code",
      "metadata": {
        "id": "lBDZYPi1VH5E",
        "colab_type": "code",
        "colab": {}
      },
      "source": [
        "filepath = \"/gdrive/My Drive/Intermediate_weights_music_gen_v3/weights-improvement-{epoch:02d}-{loss:.4f}-bigger.hdf5\"\n",
        "checkpoint_path = '/gdrive/My Drive/Intermediate_weights_music_gen_v3/weights-improvement-77-0.6529-bigger.hdf5'\n",
        "model = load_model(checkpoint_path)\n",
        "checkpoint = ModelCheckpoint(\n",
        "    filepath, monitor='loss', \n",
        "    verbose=0,        \n",
        "    save_best_only=True,        \n",
        "    mode='min'\n",
        ")    \n",
        "callbacks_list = [checkpoint]\n",
        "model.fit(network_in_X, network_out_y, epochs=100, batch_size=64, callbacks=callbacks_list, initial_epoch=77)"
      ],
      "execution_count": null,
      "outputs": []
    },
    {
      "cell_type": "code",
      "metadata": {
        "id": "NClpK4O5C_b3",
        "colab_type": "code",
        "colab": {}
      },
      "source": [
        ""
      ],
      "execution_count": null,
      "outputs": []
    },
    {
      "cell_type": "code",
      "metadata": {
        "id": "QN-N_v6gDOY3",
        "colab_type": "code",
        "colab": {}
      },
      "source": [
        ""
      ],
      "execution_count": null,
      "outputs": []
    },
    {
      "cell_type": "code",
      "metadata": {
        "id": "YBUSaxgmDTXh",
        "colab_type": "code",
        "colab": {}
      },
      "source": [
        ""
      ],
      "execution_count": null,
      "outputs": []
    }
  ]
}